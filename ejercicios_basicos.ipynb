{
  "nbformat": 4,
  "nbformat_minor": 0,
  "metadata": {
    "colab": {
      "provenance": [],
      "collapsed_sections": [],
      "authorship_tag": "ABX9TyONQcweK8dLkQe4ajPKsen1",
      "include_colab_link": true
    },
    "kernelspec": {
      "name": "python3",
      "display_name": "Python 3"
    },
    "language_info": {
      "name": "python"
    }
  },
  "cells": [
    {
      "cell_type": "markdown",
      "metadata": {
        "id": "view-in-github",
        "colab_type": "text"
      },
      "source": [
        "<a href=\"https://colab.research.google.com/github/haylengonzalez/ejercicios_basicos_colab/blob/main/ejercicios_basicos.ipynb\" target=\"_parent\"><img src=\"https://colab.research.google.com/assets/colab-badge.svg\" alt=\"Open In Colab\"/></a>"
      ]
    },
    {
      "cell_type": "markdown",
      "source": [
        "# Ejercicios básicos Python\n",
        "1. Suma de dos números\n",
        "2. Potencia de un número"
      ],
      "metadata": {
        "id": "ydkDyZ_igeOE"
      }
    },
    {
      "cell_type": "code",
      "source": [
        "# Suma de dos números enteros\n",
        "\n",
        "print(\"----------------------\")\n",
        "print(\"---SUMA DOS ENTEROS---\")\n",
        "print(\"----------------------\")\n",
        "\n",
        "# input\n",
        "x = int(input(\"Digite el valor de x: \"))\n",
        "y = int(input(\"Digite el valor de y: \"))\n",
        "\n",
        "# processing\n",
        "z = x + y\n",
        "\n",
        "# output\n",
        "print(\"La suma de \",x,\" + \",y,\" es \", z)\n"
      ],
      "metadata": {
        "colab": {
          "base_uri": "https://localhost:8080/"
        },
        "id": "xkwpcAtYhNg9",
        "outputId": "49ec845b-82bd-4405-db5a-ff929fa7297d"
      },
      "execution_count": 7,
      "outputs": [
        {
          "output_type": "stream",
          "name": "stdout",
          "text": [
            "----------------------\n",
            "---SUMA DOS ENTEROS---\n",
            "----------------------\n",
            "Digite el valor de x: 5\n",
            "Digite el valor de y: 2\n",
            "La suma de  5  +  2  es  7\n"
          ]
        }
      ]
    },
    {
      "cell_type": "code",
      "source": [
        "# potencia de un número\n",
        "print(\"--------------\")\n",
        "print(\"---POTENCIA---\")\n",
        "print(\"--------------\")\n",
        "\n",
        "# input\n",
        "x = int(input(\"Digite el valor de x: \"))\n",
        "y = int(input(\"Digite el valor de y: \"))\n",
        "\n",
        "# processing\n",
        "z = x**y\n",
        "\n",
        "# output\n",
        "print(x, \" elevado a la \" ,y, \" es \", z )"
      ],
      "metadata": {
        "colab": {
          "base_uri": "https://localhost:8080/"
        },
        "id": "wkFJLfHwkN2B",
        "outputId": "06a013e0-1a3c-4336-bf5d-c3ff8c68af6b"
      },
      "execution_count": 8,
      "outputs": [
        {
          "output_type": "stream",
          "name": "stdout",
          "text": [
            "--------------\n",
            "---POTENCIA---\n",
            "--------------\n",
            "Digite el valor de x: 2\n",
            "Digite el valor de y: 5\n",
            "2  elevado a la  5  es  32\n"
          ]
        }
      ]
    }
  ]
}